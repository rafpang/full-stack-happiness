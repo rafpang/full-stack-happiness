{
 "cells": [
  {
   "cell_type": "code",
   "execution_count": 158,
   "metadata": {},
   "outputs": [],
   "source": [
    "import pandas as pd\n",
    "import config as c\n",
    "import postgres as p\n",
    "from main import connect_db\n",
    "\n",
    "import warnings\n",
    "warnings.filterwarnings('ignore')\n",
    "from pandasql import sqldf\n",
    "from main import sql\n",
    "import matplotlib.pyplot as plt\n",
    "import seaborn as sns\n",
    "import numpy as np\n",
    "\n",
    "sql = lambda q: sqldf(q, globals())\n"
   ]
  },
  {
   "cell_type": "code",
   "execution_count": 159,
   "metadata": {},
   "outputs": [
    {
     "name": "stdout",
     "output_type": "stream",
     "text": [
      "Connected!\n"
     ]
    }
   ],
   "source": [
    "con = connect_db(host_name = c.HOST_NAME, dbname=c.DBNAME, port=c.PORT, \n",
    "                      username=c.USERNAME, password= c.PASSWORD)\n",
    "curr = con.cursor() "
   ]
  },
  {
   "cell_type": "markdown",
   "metadata": {},
   "source": [
    "Fetching data from the database"
   ]
  },
  {
   "cell_type": "code",
   "execution_count": 160,
   "metadata": {},
   "outputs": [
    {
     "data": {
      "text/html": [
       "<div>\n",
       "<style scoped>\n",
       "    .dataframe tbody tr th:only-of-type {\n",
       "        vertical-align: middle;\n",
       "    }\n",
       "\n",
       "    .dataframe tbody tr th {\n",
       "        vertical-align: top;\n",
       "    }\n",
       "\n",
       "    .dataframe thead th {\n",
       "        text-align: right;\n",
       "    }\n",
       "</style>\n",
       "<table border=\"1\" class=\"dataframe\">\n",
       "  <thead>\n",
       "    <tr style=\"text-align: right;\">\n",
       "      <th></th>\n",
       "      <th>country_code</th>\n",
       "      <th>country</th>\n",
       "      <th>sub_region</th>\n",
       "      <th>intermediate_region</th>\n",
       "      <th>household_net_wealth</th>\n",
       "      <th>personal_earnings</th>\n",
       "      <th>quality_support_network</th>\n",
       "      <th>mg_m3</th>\n",
       "      <th>water_quality_percentage</th>\n",
       "      <th>life_expectancy</th>\n",
       "      <th>student_scores</th>\n",
       "      <th>leisure_time</th>\n",
       "      <th>life_satisfaction_score</th>\n",
       "    </tr>\n",
       "  </thead>\n",
       "  <tbody>\n",
       "    <tr>\n",
       "      <th>0</th>\n",
       "      <td>AUS</td>\n",
       "      <td>Australia</td>\n",
       "      <td>Oceania</td>\n",
       "      <td>Australia and New Zealand</td>\n",
       "      <td>528768.0</td>\n",
       "      <td>55206.0</td>\n",
       "      <td>93.0</td>\n",
       "      <td>6.7</td>\n",
       "      <td>92.0</td>\n",
       "      <td>83.0</td>\n",
       "      <td>499.0</td>\n",
       "      <td>14.360</td>\n",
       "      <td>7.1</td>\n",
       "    </tr>\n",
       "    <tr>\n",
       "      <th>1</th>\n",
       "      <td>AUT</td>\n",
       "      <td>Austria</td>\n",
       "      <td>Europe</td>\n",
       "      <td>Western Europe</td>\n",
       "      <td>309637.0</td>\n",
       "      <td>53132.0</td>\n",
       "      <td>92.0</td>\n",
       "      <td>12.2</td>\n",
       "      <td>92.0</td>\n",
       "      <td>82.0</td>\n",
       "      <td>491.0</td>\n",
       "      <td>14.510</td>\n",
       "      <td>7.2</td>\n",
       "    </tr>\n",
       "    <tr>\n",
       "      <th>2</th>\n",
       "      <td>BEL</td>\n",
       "      <td>Belgium</td>\n",
       "      <td>Europe</td>\n",
       "      <td>Western Europe</td>\n",
       "      <td>447607.0</td>\n",
       "      <td>54327.0</td>\n",
       "      <td>90.0</td>\n",
       "      <td>12.8</td>\n",
       "      <td>79.0</td>\n",
       "      <td>82.1</td>\n",
       "      <td>500.0</td>\n",
       "      <td>15.520</td>\n",
       "      <td>6.8</td>\n",
       "    </tr>\n",
       "    <tr>\n",
       "      <th>3</th>\n",
       "      <td>CAN</td>\n",
       "      <td>Canada</td>\n",
       "      <td>Americas</td>\n",
       "      <td>Northern America</td>\n",
       "      <td>478240.0</td>\n",
       "      <td>55342.0</td>\n",
       "      <td>93.0</td>\n",
       "      <td>7.1</td>\n",
       "      <td>90.0</td>\n",
       "      <td>82.1</td>\n",
       "      <td>517.0</td>\n",
       "      <td>14.570</td>\n",
       "      <td>7.0</td>\n",
       "    </tr>\n",
       "    <tr>\n",
       "      <th>4</th>\n",
       "      <td>CHL</td>\n",
       "      <td>Chile</td>\n",
       "      <td>Americas</td>\n",
       "      <td>Latin America and the Caribbean</td>\n",
       "      <td>135787.0</td>\n",
       "      <td>26729.0</td>\n",
       "      <td>88.0</td>\n",
       "      <td>23.4</td>\n",
       "      <td>62.0</td>\n",
       "      <td>80.6</td>\n",
       "      <td>438.0</td>\n",
       "      <td>14.974</td>\n",
       "      <td>6.2</td>\n",
       "    </tr>\n",
       "  </tbody>\n",
       "</table>\n",
       "</div>"
      ],
      "text/plain": [
       "  country_code    country sub_region              intermediate_region  \\\n",
       "0          AUS  Australia    Oceania        Australia and New Zealand   \n",
       "1          AUT    Austria     Europe                   Western Europe   \n",
       "2          BEL    Belgium     Europe                   Western Europe   \n",
       "3          CAN     Canada   Americas                 Northern America   \n",
       "4          CHL      Chile   Americas  Latin America and the Caribbean   \n",
       "\n",
       "   household_net_wealth  personal_earnings  quality_support_network  mg_m3  \\\n",
       "0              528768.0            55206.0                     93.0    6.7   \n",
       "1              309637.0            53132.0                     92.0   12.2   \n",
       "2              447607.0            54327.0                     90.0   12.8   \n",
       "3              478240.0            55342.0                     93.0    7.1   \n",
       "4              135787.0            26729.0                     88.0   23.4   \n",
       "\n",
       "   water_quality_percentage  life_expectancy  student_scores  leisure_time  \\\n",
       "0                      92.0             83.0           499.0        14.360   \n",
       "1                      92.0             82.0           491.0        14.510   \n",
       "2                      79.0             82.1           500.0        15.520   \n",
       "3                      90.0             82.1           517.0        14.570   \n",
       "4                      62.0             80.6           438.0        14.974   \n",
       "\n",
       "   life_satisfaction_score  \n",
       "0                      7.1  \n",
       "1                      7.2  \n",
       "2                      6.8  \n",
       "3                      7.0  \n",
       "4                      6.2  "
      ]
     },
     "execution_count": 160,
     "metadata": {},
     "output_type": "execute_result"
    }
   ],
   "source": [
    "\n",
    "string = \"\"\"SELECT country_code, country, sub_region,\n",
    "                    intermediate_region,household_net_wealth, personal_earnings, quality_support_network,mg_m3, water_quality_percentage,\n",
    "                    \n",
    "                    life_expectancy, student_scores, leisure_time, life_satisfaction_score \n",
    "                    \n",
    "                    FROM happiness\"\"\"\n",
    "\n",
    "\n",
    "df = pd.read_sql(string, con,)\n",
    "\n",
    "df.head()\n"
   ]
  },
  {
   "cell_type": "code",
   "execution_count": 161,
   "metadata": {},
   "outputs": [
    {
     "data": {
      "text/html": [
       "<div>\n",
       "<style scoped>\n",
       "    .dataframe tbody tr th:only-of-type {\n",
       "        vertical-align: middle;\n",
       "    }\n",
       "\n",
       "    .dataframe tbody tr th {\n",
       "        vertical-align: top;\n",
       "    }\n",
       "\n",
       "    .dataframe thead th {\n",
       "        text-align: right;\n",
       "    }\n",
       "</style>\n",
       "<table border=\"1\" class=\"dataframe\">\n",
       "  <thead>\n",
       "    <tr style=\"text-align: right;\">\n",
       "      <th></th>\n",
       "      <th>Region</th>\n",
       "      <th>Number of countries</th>\n",
       "    </tr>\n",
       "  </thead>\n",
       "  <tbody>\n",
       "    <tr>\n",
       "      <th>0</th>\n",
       "      <td>Africa</td>\n",
       "      <td>1</td>\n",
       "    </tr>\n",
       "    <tr>\n",
       "      <th>1</th>\n",
       "      <td>Americas</td>\n",
       "      <td>7</td>\n",
       "    </tr>\n",
       "    <tr>\n",
       "      <th>2</th>\n",
       "      <td>Asia</td>\n",
       "      <td>4</td>\n",
       "    </tr>\n",
       "    <tr>\n",
       "      <th>3</th>\n",
       "      <td>Europe</td>\n",
       "      <td>27</td>\n",
       "    </tr>\n",
       "    <tr>\n",
       "      <th>4</th>\n",
       "      <td>Oceania</td>\n",
       "      <td>2</td>\n",
       "    </tr>\n",
       "  </tbody>\n",
       "</table>\n",
       "</div>"
      ],
      "text/plain": [
       "     Region  Number of countries\n",
       "0    Africa                    1\n",
       "1  Americas                    7\n",
       "2      Asia                    4\n",
       "3    Europe                   27\n",
       "4   Oceania                    2"
      ]
     },
     "execution_count": 161,
     "metadata": {},
     "output_type": "execute_result"
    }
   ],
   "source": [
    "#How many countries in each region?\n",
    "sql(\n",
    "    \"\"\"\n",
    "    SELECT d.sub_region as 'Region', count(1) as 'Number of countries'\n",
    "\n",
    "    FROM df as d\n",
    "    GROUP BY d.sub_region    \n",
    "    \"\"\")"
   ]
  },
  {
   "cell_type": "code",
   "execution_count": 162,
   "metadata": {},
   "outputs": [
    {
     "data": {
      "image/png": "[encoded data removed]",
      "text/plain": [
       "<Figure size 600x1000 with 1 Axes>"
      ]
     },
     "metadata": {},
     "output_type": "display_data"
    }
   ],
   "source": [
    "#comparison of european countries\n",
    "df_compare_eusubregion = sql(\n",
    "    \"\"\"\n",
    "    SELECT d.country, d.household_net_wealth as household_net_wealth,\n",
    "    (select round(avg(household_net_wealth),0) from df as e where e.sub_region = d.sub_region) as sub_region_avg\n",
    "    FROM df as d\n",
    "    where d.sub_region = 'Europe';\n",
    "    \"\"\")\n",
    "\n",
    "sns.set_style('whitegrid')\n",
    "fig, ax = plt.subplots(1,1, figsize = (6,10))\n",
    "\n",
    "df_compare_eusubregion['colour'] = np.where(df_compare_eusubregion['household_net_wealth'] >=  df_compare_eusubregion.sub_region_avg \\\n",
    "                                            ,'green', 'red')\n",
    "\n",
    "line = ax.axhline(y = df_compare_eusubregion['sub_region_avg'].values[0], c = 'gray')\n",
    "ax.fill_between(np.linspace(-100,100,len(df_compare_eusubregion.country)),\n",
    "                 df_compare_eusubregion.sub_region_avg, color = 'grey', alpha = 0.5)\n",
    "\n",
    "ax.bar(x= df_compare_eusubregion.country, height= df_compare_eusubregion.household_net_wealth, color = df_compare_eusubregion['colour'] \n",
    "            )\n",
    "\n",
    "plt.xticks(rotation = 90, fontsize = 8);\n",
    "plt.ylim((100000,950000))\n",
    "ax.set_title('Comparison of household net wealth of EU countries')\n",
    "ax.set_xlabel('Countries')\n",
    "ax.set_ylabel('Household net wealth (USD)');"
   ]
  },
  {
   "cell_type": "code",
   "execution_count": null,
   "metadata": {},
   "outputs": [],
   "source": []
  },
  {
   "cell_type": "code",
   "execution_count": null,
   "metadata": {},
   "outputs": [],
   "source": []
  },
  {
   "cell_type": "code",
   "execution_count": null,
   "metadata": {},
   "outputs": [],
   "source": []
  }
 ],
 "metadata": {
  "kernelspec": {
   "display_name": "Python 3.8.13 ('datsci')",
   "language": "python",
   "name": "python3"
  },
  "language_info": {
   "codemirror_mode": {
    "name": "ipython",
    "version": 3
   },
   "file_extension": ".py",
   "mimetype": "text/x-python",
   "name": "python",
   "nbconvert_exporter": "python",
   "pygments_lexer": "ipython3",
   "version": "3.8.13"
  },
  "orig_nbformat": 4,
  "vscode": {
   "interpreter": {
    "hash": "4562727f14b74f61555a57c9b095d933e35297c32a32cec7b21936c886b6a59b"
   }
  }
 },
 "nbformat": 4,
 "nbformat_minor": 2
}
